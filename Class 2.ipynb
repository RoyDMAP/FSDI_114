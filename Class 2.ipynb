{
 "cells": [
  {
   "cell_type": "markdown",
   "id": "f12d86c5-69fc-4b77-936e-327718ecdbd3",
   "metadata": {},
   "source": [
    "# Stacks\n",
    "A stack is an ordered collection where items are added and removed from the same end, commonly refered to as the top.\n",
    "\n",
    "The ordering principle is represented by the acronym: LIFO which is \"last in first out\""
   ]
  },
  {
   "cell_type": "code",
   "execution_count": 1,
   "id": "b0c1621f-6684-463c-be62-8673d7a9c8d9",
   "metadata": {},
   "outputs": [],
   "source": [
    "# Simplified implementation of Stack (relying heavily on built-ins\n",
    "\n",
    "class Stack: \n",
    "    def __init__(self):\n",
    "        self.items = []\n",
    "\n",
    "    def push(self, value):\n",
    "        self.items.append(value)\n",
    "\n",
    "    def pop(self):\n",
    "        return self.items.pop()\n",
    "\n",
    "    # Nice to have methods:\n",
    "    def peek(self):\n",
    "        return self.items[len(self.items)-1]\n",
    "\n",
    "    def is_empty(self):\n",
    "        return self.items == []\n",
    "\n",
    "    def size(self):\n",
    "        return len(self.items)\n",
    "\n"
   ]
  },
  {
   "cell_type": "markdown",
   "id": "e3dc90db-bae0-421b-acf1-afe3a511d55e",
   "metadata": {},
   "source": [
    "# Problem 1\n",
    "Create a function that uses the 'Stack' class about to invert a string.\n",
    "\n",
    "## Criteria\n",
    "Your function, 'inver_str' should receive a string as a parameter and use the 'Stack' class shown above to return an inverted copy of the string.\n",
    "\n",
    "```\n",
    "Example:\n",
    "invert_str(\"rafael\") should return \"leafar\"\n",
    "invert_str(\"rats\") should return \"star\"\n",
    "invert_str(\"aabcc\") should return \"ccbaa\"\n",
    "\n",
    "\n"
   ]
  },
  {
   "cell_type": "markdown",
   "id": "d1d002aa-36ac-4908-bfea-d9dc87132fbe",
   "metadata": {},
   "source": [
    "```\n",
    "```\n",
    "+---------------------+   +-----------------+   +-----------+\n",
    "|      Assessment     |   |     Assembly    |   |   Action  |\n",
    "|                     |   |                 |   |           |\n",
    "+---------------------+   +-----------------+   +-----------+\n",
    "How to solve it\n",
    "#Follow the triple A approached last class to conduct assessment, assembly, and action."
   ]
  },
  {
   "cell_type": "markdown",
   "id": "38d756fb-b1d6-43e8-a41d-5ab497c11dde",
   "metadata": {},
   "source": [
    "# Pseudocode\n",
    "```\n",
    "define invert_str with parameter mystring of type string:\n",
    "    stack = new instance of Stack class\n",
    "    for each character in mystring:\n",
    "        stack.push(character)\n",
    "    output_str = \"\"\n",
    "    while the stack is not empty:\n",
    "        output_str = output_str + stack.pop() # rememver, stack.pop() will return the topmost character\n",
    "    return output_str"
   ]
  },
  {
   "cell_type": "code",
   "execution_count": 4,
   "id": "421af900-20f9-481a-bdf6-de8dfbd86afa",
   "metadata": {},
   "outputs": [],
   "source": [
    "\n",
    "def invert_str(mystring_str):\n",
    "    stack = Stack()\n",
    "    for char in mystring_str:\n",
    "        stack.push(char)\n",
    "    output_str = \"\"\n",
    "    while not stack.is_empty():\n",
    "        output_str += stack.pop()\n",
    "    \n",
    "    return output_str\n",
    "\n"
   ]
  },
  {
   "cell_type": "code",
   "execution_count": 5,
   "id": "bd3b6ea1-ccc4-418d-8b27-89e8294bc5f7",
   "metadata": {},
   "outputs": [
    {
     "data": {
      "text/plain": [
       "'YOR'"
      ]
     },
     "execution_count": 5,
     "metadata": {},
     "output_type": "execute_result"
    }
   ],
   "source": [
    "invert_str(\"ROY\")"
   ]
  },
  {
   "cell_type": "code",
   "execution_count": 9,
   "id": "1fa0d598-8215-4903-8aa6-0e8d6e5b36b2",
   "metadata": {},
   "outputs": [],
   "source": [
    "# From scratch implementation of Stack\n",
    "\n",
    "class StackII:\n",
    "    class __Node:\n",
    "        def __init__(self, data):\n",
    "            self.data = data\n",
    "            self.below = None\n",
    "\n",
    "    def __init__(self):\n",
    "        self.top = None\n",
    "\n",
    "    def push(self, datum):\n",
    "        new_node = self.__Node(datum)\n",
    "        if not self.top:\n",
    "            self.top = new_node\n",
    "        else:\n",
    "            new_node.below = self.top\n",
    "            self.top = new_node\n",
    "\n",
    "    def pop(self):\n",
    "        if self.top:\n",
    "            datum = self.top.data\n",
    "            self.top = self.top.below\n",
    "            return datum\n",
    "        raise IndexError(\"Stack is empty\")\n",
    "\n",
    "    # Nice to have methods\n",
    "    def peek(self):\n",
    "        if self.top:\n",
    "            return self.top.data\n",
    "        raise IndexError(\"Stack is empty\")\n",
    "\n",
    "    def is_empty(self):\n",
    "        return self.top == None\n",
    "\n",
    "    def size(self):\n",
    "        # Traversal receipe!\n",
    "        count = 0\n",
    "        if self.top:\n",
    "            current = self.top\n",
    "            while current:\n",
    "                count += 1\n",
    "                current = current.below\n",
    "        return count"
   ]
  },
  {
   "cell_type": "code",
   "execution_count": 10,
   "id": "45abf185-f2dc-4249-99ac-fc3a2bcce012",
   "metadata": {},
   "outputs": [],
   "source": [
    "def invert_str(mystring):\n",
    "    stack = StackII()\n",
    "    for char in mystring:\n",
    "        stack.push(char)\n",
    "    out = \"\"\n",
    "    while not stack.is_empty():\n",
    "        out += stack.pop()\n",
    "    return out"
   ]
  },
  {
   "cell_type": "code",
   "execution_count": 11,
   "id": "ffe6fc2b-43a4-4978-9259-856bbdf877f2",
   "metadata": {},
   "outputs": [
    {
     "data": {
      "text/plain": [
       "'llabteksab'"
      ]
     },
     "execution_count": 11,
     "metadata": {},
     "output_type": "execute_result"
    }
   ],
   "source": [
    "invert_str(\"basketball\")"
   ]
  },
  {
   "cell_type": "markdown",
   "id": "f85ebb8c-fd7f-40e6-a355-e1d7bedf6c6f",
   "metadata": {},
   "source": [
    "# Where to go from here?\n",
    "\n",
    "1. I recommend you try to implement StackII on your own without reading the code above (you can totally cheat as needed -- I mean look at the source code).\n",
    "2. Try to diagram what the StackII class is doing in the invert_str function above (a flowchart is ideal).\n",
    "\n",
    "# Optional\n",
    "1. Create a drawing of the StackII class, representing it's embedded Node class and how the push and pop operations work."
   ]
  },
  {
   "cell_type": "code",
   "execution_count": null,
   "id": "bd377595-293f-49b0-8122-2b00cd8c9d65",
   "metadata": {},
   "outputs": [],
   "source": []
  }
 ],
 "metadata": {
  "kernelspec": {
   "display_name": "Python 3 (ipykernel)",
   "language": "python",
   "name": "python3"
  },
  "language_info": {
   "codemirror_mode": {
    "name": "ipython",
    "version": 3
   },
   "file_extension": ".py",
   "mimetype": "text/x-python",
   "name": "python",
   "nbconvert_exporter": "python",
   "pygments_lexer": "ipython3",
   "version": "3.12.4"
  }
 },
 "nbformat": 4,
 "nbformat_minor": 5
}
