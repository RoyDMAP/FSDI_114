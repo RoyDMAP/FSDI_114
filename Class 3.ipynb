{
 "cells": [
  {
   "cell_type": "markdown",
   "id": "e39cd59e-9f17-466b-ba2c-4179d5c9993b",
   "metadata": {},
   "source": [
    "# Queue\n",
    "A queue is an ordered collection where items are added and removed from opposite ends.\n",
    "\n",
    "The ordering principle is represented by the acronym _FIFO_ (first in, first out)."
   ]
  },
  {
   "cell_type": "code",
   "execution_count": 1,
   "id": "86587407-45b5-44f3-bfd0-725fe71249b2",
   "metadata": {},
   "outputs": [],
   "source": [
    "# Simplified implementation of Queue (relying on built-ins)\n",
    "\n",
    "class Queue:\n",
    "    def __init__(self): \n",
    "        self.items = []\n",
    "\n",
    "    def enqueue(self, datum):\n",
    "        self.items.insert(0, datum)\n",
    "\n",
    "    def dequeue(self): \n",
    "        return self.items.pop()\n",
    "\n",
    "    # Nice to have methods\n",
    "    def peek(self):\n",
    "        return self.items[len(self.items)-1]\n",
    "\n",
    "    def is_empty(self):\n",
    "        return self.items == []\n",
    "\n",
    "    def size(self):\n",
    "        return len(self.items)"
   ]
  },
  {
   "cell_type": "markdown",
   "id": "7c2c427c-5d04-4e73-aaa1-2a74f6743640",
   "metadata": {},
   "source": [
    "# Problem 1\n",
    "Create a \"from scratch\" implementation of Queue, named QueueII, which like StackII from last class, does not rely on built-ins.\n",
    "\n",
    "## Criteria\n",
    "1. Your QueueII class should use an embedded `__Node` class.\n",
    "2. Your QueueII class should support the following methods:\n",
    "    3. enqueue\n",
    "    4. dequeue\n",
    "    5. is_empty\n",
    "    6. size\n",
    "    7. peek\n",
    "3. The worst case time complexity for enqueue and dequeueshould be 0(1) or constant.  \n",
    "\n",
    "# Note \n",
    "The example abouve should help you test and ensure you are implementing your queue correctly\n",
    "\n",
    "\n",
    "\n",
    "\n"
   ]
  },
  {
   "cell_type": "code",
   "execution_count": 5,
   "id": "2547e9a6-ec57-4277-8f52-c82c831140dd",
   "metadata": {},
   "outputs": [
    {
     "name": "stdout",
     "output_type": "stream",
     "text": [
      "Dequeued: 1\n",
      "Dequeued: 2\n",
      "Dequeued: 3\n",
      "Dequeued: 4\n",
      "Dequeued: 5\n",
      "Dequeued: 6\n",
      "Dequeued: 7\n",
      "Dequeued: 8\n",
      "Dequeued: 9\n",
      "Dequeued: 10\n"
     ]
    }
   ],
   "source": [
    "queue = Queue()\n",
    "for number in range(1, 11):\n",
    "    queue.enqueue(number)\n",
    "\n",
    "while not queue.is_empty():\n",
    "    print(\"Dequeued: %s\" % queue.dequeue())"
   ]
  },
  {
   "cell_type": "markdown",
   "id": "df9e256f-87d5-4801-a1d3-6fa833ea463e",
   "metadata": {},
   "source": [
    "# Form a QueueII Class: class QueueII:\n",
    "# Create a Node Class: class __Node:\n",
    "# Initialization: (__init__)\n",
    "# Enqueue Method: def enqueue(self, datum):\n",
    "# Dequeue Method: def dequeue(self):\n",
    "# Empty Method: def is_empty(self):\n",
    "# Size Method: def size(self):"
   ]
  },
  {
   "cell_type": "code",
   "execution_count": 8,
   "id": "383fbc3d-16da-49b5-a858-9b8625e9bd54",
   "metadata": {},
   "outputs": [],
   "source": [
    "class QueueII:\n",
    "    class __Node:\n",
    "        def __init__(self, data):\n",
    "            self.data = data\n",
    "            self.next = None\n",
    "\n",
    "    def __init__(self):\n",
    "        self.front = None\n",
    "        self.back = None\n",
    "\n",
    "    def enqueue(self, datum):\n",
    "        new_node = self.__Node(datum)\n",
    "        if not self.front:\n",
    "            self.front = new_node\n",
    "            self.back = new_node\n",
    "        else:\n",
    "            self.back.next = new_node\n",
    "            self.back = new_node\n",
    "\n",
    "    def dequeue(self):\n",
    "        if self.front:\n",
    "            datum = self.front.data\n",
    "            self.front = self.front.next\n",
    "            return datum\n",
    "        raise IndexError(\"Queue is empty\")\n",
    "\n",
    "    # Nice o have methods\n",
    "    def peek(self):\n",
    "        if self.front:\n",
    "            return self.front.data\n",
    "        raise IndexError(\"Queue is empty\")\n",
    "\n",
    "    def is_empty(self):\n",
    "        return self.front == None\n",
    "\n",
    "    def size(self):\n",
    "        # Traversal receipe!\n",
    "        count = 0\n",
    "        if self.front:\n",
    "            current = self.front\n",
    "            while current:\n",
    "                count += 1\n",
    "                current = current.next\n",
    "        return count \n",
    "\n",
    "        \n",
    "            "
   ]
  },
  {
   "cell_type": "code",
   "execution_count": 9,
   "id": "c7b36572-115a-4da9-80a6-53fda15c06f7",
   "metadata": {},
   "outputs": [
    {
     "name": "stdout",
     "output_type": "stream",
     "text": [
      "Dequeued: 1\n",
      "Dequeued: 2\n",
      "Dequeued: 3\n",
      "Dequeued: 4\n",
      "Dequeued: 5\n",
      "Dequeued: 6\n",
      "Dequeued: 7\n",
      "Dequeued: 8\n",
      "Dequeued: 9\n",
      "Dequeued: 10\n"
     ]
    }
   ],
   "source": [
    "queue = QueueII()\n",
    "for number in range(1, 11):\n",
    "    queue.enqueue(number)\n",
    "\n",
    "while not queue.is_empty():\n",
    "    print(\"Dequeued: %s\" % queue.dequeue())"
   ]
  },
  {
   "cell_type": "markdown",
   "id": "98f07ec1-71ec-4ad2-9be9-016d258dfb36",
   "metadata": {},
   "source": [
    "# Linked Lists\n",
    "In general, there are two varities of linked lists and these are:\n",
    "1. Singly Linked Lists also known as uni-directional lists\n",
    "2. Doubly Linked Lists also known as bi-directional lists\n",
    "\n",
    "Today, we'll have a look at singly linked lists and how they work. "
   ]
  },
  {
   "cell_type": "code",
   "execution_count": 18,
   "id": "485318ee-3f77-424f-90c0-28566b36c7e2",
   "metadata": {},
   "outputs": [],
   "source": [
    "# From scratch implementaton of Singly Linked Lists\n",
    "\n",
    "class SinglyLinkedList: \n",
    "    class __Node:\n",
    "        def __init__(self, datum):\n",
    "            self.data = datum\n",
    "            self.next = None\n",
    "\n",
    "    def __init__(self):\n",
    "        self.head = None\n",
    "        self.tail = None\n",
    "        self.size = 0\n",
    "\n",
    "    def append(self, datum):\n",
    "        new_node = self.__Node(datum)\n",
    "        self.size += 1\n",
    "        if not self.head:\n",
    "            self.head = new_node\n",
    "            self.tail = new_node\n",
    "        else:\n",
    "            self.tail.next = new_node\n",
    "            self.tail = new_node\n",
    "\n",
    "    def remove(self, datum):\n",
    "        # removes the first instance of \"datum\" from the list if found; ValueError if not found\n",
    "        if self.head:\n",
    "            previous = None\n",
    "            current = self.head\n",
    "            while current and current.data != datum:\n",
    "                previous = current\n",
    "                current = self.head\n",
    "            if not current:\n",
    "                raise ValueError(\"%s not found in list\" % datum)\n",
    "            else:\n",
    "                if previous:\n",
    "                    previous.next = current.next\n",
    "                else:\n",
    "                    self.head = self.head.next\n",
    "                    if not self.head:\n",
    "                        self.tail = None\n",
    "                self.size -= 1\n",
    "        else:\n",
    "            raise IndexError(\"List is empty\")\n",
    "\n",
    "    def __len__(self):\n",
    "        return self.size\n",
    "\n",
    "    def __str__(self):\n",
    "        out = \"[\"\n",
    "        if self.head:\n",
    "            current = self.head\n",
    "            out += \"%s\" % repr(current.data)\n",
    "            current = current.next\n",
    "            while current:\n",
    "                out += \", %s\" % repr(current.data)\n",
    "                current = current.next\n",
    "        out += \"]\"\n",
    "        return out\n",
    "        \n",
    "            "
   ]
  },
  {
   "cell_type": "code",
   "execution_count": 19,
   "id": "4805bb6a-7d46-4798-aedf-f66aeb6a3687",
   "metadata": {},
   "outputs": [
    {
     "name": "stdout",
     "output_type": "stream",
     "text": [
      "Our list: [1, 2, 3, 4, 5, 6, 7, 8, 9, 10]\n"
     ]
    }
   ],
   "source": [
    "sll = SinglyLinkedList()\n",
    "\n",
    "for number in range(1, 11):\n",
    "    sll.append(number)\n",
    "    \n",
    "print(\"Our list: %s\" % sll)\n"
   ]
  },
  {
   "cell_type": "code",
   "execution_count": null,
   "id": "21c9ede1-d2f8-4504-aa8a-9233196e4cd5",
   "metadata": {},
   "outputs": [],
   "source": []
  }
 ],
 "metadata": {
  "kernelspec": {
   "display_name": "Python 3 (ipykernel)",
   "language": "python",
   "name": "python3"
  },
  "language_info": {
   "codemirror_mode": {
    "name": "ipython",
    "version": 3
   },
   "file_extension": ".py",
   "mimetype": "text/x-python",
   "name": "python",
   "nbconvert_exporter": "python",
   "pygments_lexer": "ipython3",
   "version": "3.12.4"
  }
 },
 "nbformat": 4,
 "nbformat_minor": 5
}
