{
 "cells": [
  {
   "cell_type": "code",
   "execution_count": 1,
   "id": "87a637a9-60de-411b-888d-2e7c688f8777",
   "metadata": {},
   "outputs": [
    {
     "name": "stdout",
     "output_type": "stream",
     "text": [
      "h\n",
      "e\n",
      "l\n",
      "l\n",
      "o\n",
      ",\n",
      " \n",
      "w\n",
      "o\n",
      "r\n",
      "l\n",
      "d\n",
      "!\n"
     ]
    }
   ],
   "source": [
    "for char in \"hello, world!\":\n",
    "    print(char)\n",
    "\n",
    "# hello done typing, use shift+enter to render this cell!\n"
   ]
  },
  {
   "cell_type": "markdown",
   "id": "9074ff69-34e3-4257-a556-cecde614a739",
   "metadata": {},
   "source": [
    "# Problem 1\n",
    "\n",
    "## Anagram Check\n",
    "Create a function that receives two strings as input and determines if these are anagrams of each other.  The function must return True if these are anagrams of each other, False otherwise.\n",
    "\n",
    "## Criteria\n",
    "Two strings are anagrams of each other if *all* the criteria below are met:\n",
    "1. They must use the same letters the same amount of times.\n",
    "2. They must be of equal length.\n",
    "\n",
    "...\n",
    "\n",
    "Exaples: \n",
    "heart and earth\n",
    "cars and scar\n",
    "star and rats \n",
    "```\n",
    "\n",
    "\n",
    "\n",
    "\n",
    "\n"
   ]
  },
  {
   "cell_type": "code",
   "execution_count": 2,
   "id": "ef42e601-dd42-4509-8a24-95d2a9db03c6",
   "metadata": {},
   "outputs": [
    {
     "data": {
      "text/plain": [
       "65"
      ]
     },
     "execution_count": 2,
     "metadata": {},
     "output_type": "execute_result"
    }
   ],
   "source": [
    "ord(\"A\")"
   ]
  },
  {
   "cell_type": "code",
   "execution_count": 3,
   "id": "80e2f3b0-80fe-4e00-a124-d0d0ea990fc5",
   "metadata": {},
   "outputs": [
    {
     "data": {
      "text/plain": [
       "97"
      ]
     },
     "execution_count": 3,
     "metadata": {},
     "output_type": "execute_result"
    }
   ],
   "source": [
    "ord(\"a\")"
   ]
  },
  {
   "cell_type": "code",
   "execution_count": 4,
   "id": "187984d5-1d7b-4ac0-8e77-c5e1f8798f89",
   "metadata": {},
   "outputs": [],
   "source": [
    "# In the popular Harry Potter saga, the villain's name, Lord Voldemort, has chosen his name as it is an anagram\n",
    "# of his \"human\" name.  That is to say: \"Tom Marvolo Riddle\" is an anagram of \"I am Lord Voldemort\""
   ]
  },
  {
   "cell_type": "code",
   "execution_count": 7,
   "id": "303e28a3-2913-4c0c-ba51-76ca0b727bd4",
   "metadata": {},
   "outputs": [],
   "source": [
    "def anagram_check(string1, string2):\n",
    "    return sorted(string1) == sorted(string2)"
   ]
  },
  {
   "cell_type": "code",
   "execution_count": 8,
   "id": "7b669e42-0d19-4ca3-b2a3-fc81f8d776bf",
   "metadata": {},
   "outputs": [
    {
     "data": {
      "text/plain": [
       "False"
      ]
     },
     "execution_count": 8,
     "metadata": {},
     "output_type": "execute_result"
    }
   ],
   "source": [
    "anagram_check(\"Tom Marvolo Riddle\", \"I am Lord Voldemort\")"
   ]
  },
  {
   "cell_type": "markdown",
   "id": "d4dd6726-38c7-4cd2-a3e5-3d763c997157",
   "metadata": {},
   "source": [
    "```\n",
    "define anagram_check with parameters string1 and string2:\n",
    "    string1 = string1 without spaces\n",
    "    string2 = string2 without spaces\n",
    "    string1 = string1 in lower case\n",
    "    string2 = string2 in lower case\n",
    "    if the length of string1 is not equal to he length of string2:\n",
    "        return False\n",
    "    dictA = new dictionary\n",
    "    dictB = new dictionary\n",
    "    for each number in the range between 0 and the length of the string:\n",
    "        if the character at positon \"number\" in string1 is not in dictA:\n",
    "            create a new entry in dictA with the key set to the character and the value set to 1\n",
    "        otherwise:\n",
    "            add 1 to the existing entry's value for the character in dictA\n",
    "        if the character at positon \"number\" in string2 is not in dictB:\n",
    "            create a new entry in dictB with the key set to the character and the value set to 1\n",
    "        otherwise:\n",
    "            add 1 to the existing entry's value for the character in dictB\n",
    "        if dictA is equal to dictB\n",
    "            return True\n",
    "        otherwise:\n",
    "            return False\n",
    "      \n",
    "\n",
    "```"
   ]
  },
  {
   "cell_type": "code",
   "execution_count": 9,
   "id": "0558732b-fdcc-4614-b548-03ad834d8e02",
   "metadata": {},
   "outputs": [],
   "source": [
    "def anagram_check(string1, string2):\n",
    "    string1 = string1.replace(\" \", \"\").lower()\n",
    "    string2 = string2.replace(\" \", \"\").lower()\n",
    "\n",
    "    if len(string1) != len(string2):\n",
    "        return False\n",
    "\n",
    "    dictA = {}\n",
    "    dictB = {}\n",
    "\n",
    "    for number in range(len(string1)):\n",
    "        char1 = string1[number]\n",
    "        if char1 not in dictA:\n",
    "            dictA[char1] = 1\n",
    "        else: \n",
    "            dictA[char1] += 1\n",
    "        char2 = string2[number]\n",
    "        if char2 not in dictB:\n",
    "            dictB[char2] = 1\n",
    "        else: \n",
    "            dictB[char2] += 1\n",
    "\n",
    "    if dictA == dictB:\n",
    "        return True\n",
    "    else: \n",
    "        return False\n",
    "        \n",
    "        "
   ]
  },
  {
   "cell_type": "code",
   "execution_count": 10,
   "id": "be98e025-96a3-406f-bdc5-483695268f63",
   "metadata": {},
   "outputs": [
    {
     "data": {
      "text/plain": [
       "True"
      ]
     },
     "execution_count": 10,
     "metadata": {},
     "output_type": "execute_result"
    }
   ],
   "source": [
    "anagram_check(\"Tom Marvolo Riddle\", \"I am Lord Voldemort\")"
   ]
  },
  {
   "cell_type": "code",
   "execution_count": null,
   "id": "97f0dd4c-0e96-45ab-aa28-7545fb15bfaf",
   "metadata": {},
   "outputs": [],
   "source": []
  }
 ],
 "metadata": {
  "kernelspec": {
   "display_name": "Python 3 (ipykernel)",
   "language": "python",
   "name": "python3"
  },
  "language_info": {
   "codemirror_mode": {
    "name": "ipython",
    "version": 3
   },
   "file_extension": ".py",
   "mimetype": "text/x-python",
   "name": "python",
   "nbconvert_exporter": "python",
   "pygments_lexer": "ipython3",
   "version": "3.12.4"
  }
 },
 "nbformat": 4,
 "nbformat_minor": 5
}
