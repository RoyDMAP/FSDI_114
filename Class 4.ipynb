{
 "cells": [
  {
   "cell_type": "markdown",
   "id": "b326ef36-92e3-4e6e-ae7e-58d630c60994",
   "metadata": {},
   "source": [
    "# Doubly Linked Lists or Bi-directional list\n",
    "Last class we learned about Singly Linked Lists, and we know that these are also called uni-directional list, as traversal can only happen in one direction due to the fact that nodes in singly linked lists only keep a single reference to the next node in the sequence.  This means that the linked list can only be traversed in one direction by following the references.\n",
    "\n",
    "In contrast, a doubly linked list uses nodes that have two references: one to the next node in the list and one to the previous node. This means that traversal can occur from head to tail or vice-versa. "
   ]
  },
  {
   "cell_type": "code",
   "execution_count": 19,
   "id": "a0174a49-9a35-4d9c-8e18-594833653f94",
   "metadata": {},
   "outputs": [],
   "source": [
    "# From scratch implementation of doubly linked lists\n",
    "\n",
    "class DoublyLinkedList:\n",
    "    class __Node:\n",
    "        def __init__(self, datum):\n",
    "            self.data = datum\n",
    "            self.next = None\n",
    "            self.prev = None\n",
    "\n",
    "        def __init__(self):\n",
    "            self.head = None\n",
    "            self.tail = None\n",
    "\n",
    "        def append(self, datum):\n",
    "            # This method should add a new node as the tail of the list. If there is no head node, this also becomes the head.\n",
    "            pass\n",
    "\n",
    "        def remove(self, datum):\n",
    "            # This method should remove the first node that has \"datum\" in its data attribute. Raise a ValueError if the data is not found.\n",
    "            pass\n",
    "            \n",
    "        def __len__(self):\n",
    "            # This method should return the total number of nodes in the list.\n",
    "            return 0\n",
    "\n",
    "        def __str__(self):\n",
    "            # This method should return a string representation of all the values stored in the list (IE: [1, 2, 3])\n",
    "            return \"\"\n",
    "\n",
    "        def insert(self, index, datum):\n",
    "            # inserts a new node before the target index\n",
    "            new_node = self.__Node(datum)\n",
    "            self.size += 1\n",
    "            found = False\n",
    "            count = 0\n",
    "            if self.head:\n",
    "                current = self.head\n",
    "                if index == 0:\n",
    "                    # this means we're attempting to replace the head node\n",
    "                    new_node.next = self.head\n",
    "                    self.head.prev = new_node\n",
    "                    self.head = new_node\n",
    "                else:\n",
    "                    while current.next: \n",
    "                        if count == index:\n",
    "                            found = True\n",
    "                            break\n",
    "                        current = current.next\n",
    "                        count += 1\n",
    "                    if found:\n",
    "                        current.prev.next = new_node\n",
    "                        new_node.prev = current.prev\n",
    "                        new_node.next = current\n",
    "                        current.prev = new_node\n",
    "                    else:\n",
    "                        self.append(datum)\n",
    "            else:\n",
    "                self.head = new_node\n",
    "                self.tail = new_node\n",
    "        \n",
    "        \n",
    "            "
   ]
  },
  {
   "cell_type": "code",
   "execution_count": 22,
   "id": "56fe402e-f003-4ab9-991e-1f92de74123b",
   "metadata": {},
   "outputs": [],
   "source": [
    "class DoublyLinkedList:\n",
    "    class __Node:\n",
    "        def __init__(self, datum):\n",
    "            self.data = datum\n",
    "            self.next = None\n",
    "            self.prev = None\n",
    "\n",
    "    def __init__(self):\n",
    "        self.head = None\n",
    "        self.tail = None\n",
    "        self.size = 0\n",
    "\n",
    "    def append(self, datum):\n",
    "        new_node = self.__Node(datum)\n",
    "        self.size += 1\n",
    "        if not self.head:\n",
    "            self.head = new_node\n",
    "            self.tail = new_node\n",
    "\n",
    "        else:\n",
    "            new_node.prev = self.tail\n",
    "            self.tail.next = new_node\n",
    "            self.tail = new_node\n",
    "\n",
    "    def remove(self, datum):\n",
    "        if self.head:\n",
    "            current = self.head\n",
    "            while current and current.data != datum:\n",
    "                current = current.next\n",
    "            if not current:\n",
    "                raise ValueError(\"%s not found in list\" % datum)\n",
    "            else:\n",
    "                if current.prev:\n",
    "                    current.prev.next = current.next\n",
    "                else: \n",
    "                    self.head = current.next\n",
    "\n",
    "            if current.next:\n",
    "                current.next.prev = current.prev\n",
    "            else: \n",
    "                self.tail = current.prev\n",
    "\n",
    "            self.size -= 1\n",
    "\n",
    "        else:\n",
    "            raise IndexError(\"List is empty\")\n",
    "\n",
    "    def __len__(self):\n",
    "        return self.size\n",
    "\n",
    "    def __str__(self):\n",
    "        out = '['\n",
    "        if self.head:\n",
    "            current = self.head\n",
    "            out += \"%s\" % repr (current.data)\n",
    "            current = current.next\n",
    "            while current:\n",
    "                out += \", %s\" % repr(current.data)\n",
    "                current = current.next\n",
    "        out += \"]\"\n",
    "        return out\n",
    "\n",
    "    def insert(self, index, datum):\n",
    "            # inserts a new node before the target index\n",
    "            new_node = self.__Node(datum)\n",
    "            self.size += 1\n",
    "            found = False\n",
    "            count = 0\n",
    "            if self.head:\n",
    "                current = self.head\n",
    "                if index == 0:\n",
    "                    # this means we're attempting to replace the head node\n",
    "                    new_node.next = self.head\n",
    "                    self.head.prev = new_node\n",
    "                    self.head = new_node\n",
    "                else:\n",
    "                    while current.next: \n",
    "                        if count == index:\n",
    "                            found = True\n",
    "                            break\n",
    "                        current = current.next\n",
    "                        count += 1\n",
    "                    if found:\n",
    "                        current.prev.next = new_node\n",
    "                        new_node.prev = current.prev\n",
    "                        new_node.next = current\n",
    "                        current.prev = new_node\n",
    "                    else:\n",
    "                        self.append(datum)\n",
    "            else:\n",
    "                self.head = new_node\n",
    "                self.tail = new_node\n"
   ]
  },
  {
   "cell_type": "code",
   "execution_count": 23,
   "id": "692241ce-9331-4176-9846-67d9b25f9464",
   "metadata": {},
   "outputs": [
    {
     "name": "stdout",
     "output_type": "stream",
     "text": [
      "Our list: [1, 2, 3, 4, 5, 6, 7, 8, 9, 10]\n"
     ]
    }
   ],
   "source": [
    "dll = DoublyLinkedList()\n",
    "\n",
    "for number in range(1, 11):\n",
    "    dll.append(number)\n",
    "\n",
    "print(\"Our list: %s\" % dll)"
   ]
  },
  {
   "cell_type": "code",
   "execution_count": 24,
   "id": "d2ac86a0-fc74-4258-8901-af0775f6b66e",
   "metadata": {},
   "outputs": [
    {
     "name": "stdout",
     "output_type": "stream",
     "text": [
      "[1, 2, 1.5]\n"
     ]
    }
   ],
   "source": [
    "dll = DoublyLinkedList()\n",
    "\n",
    "# When the list is empty:\n",
    "dll.insert(0, 1)\n",
    "\n",
    "# When the list contains exactly one element and index >=1\n",
    "dll.insert(2, 2)\n",
    "\n",
    "# When the list is not empty but the index does not exceed the length of the list\n",
    "dll.insert(2, 1.5)\n",
    "\n",
    "print(dll)"
   ]
  },
  {
   "cell_type": "markdown",
   "id": "2e0021ce-a4bf-4bf4-adb0-24d673babe42",
   "metadata": {},
   "source": [
    "# Recursive Functions\n",
    "In general, a recursive function is a function that calls itself at leaast once (although not exclusively once).\n",
    "\n",
    "A well-crafted recursive function will generally have an exit condition that is typically referred to as the base case.\n",
    "\n",
    "The base represents something we absolutely know to be true about a problem."
   ]
  },
  {
   "cell_type": "code",
   "execution_count": 28,
   "id": "afe04991-5be1-45e0-91a9-e1724998a8d6",
   "metadata": {},
   "outputs": [],
   "source": [
    "# A simple example of recursive functions: The factorial function\n",
    "# 5! = 5x4x3x2x1 = 120\n",
    "# 5! = 120\n",
    "# Another way to represent this, focusing on recursion is the following:\n",
    "# 5! = 5x4!\n",
    "# 4! = 4x3!\n",
    "# 3! = 3x2!\n",
    "# 2! = 2x1!\n",
    "\n",
    "# The factorial of 0 is actually 1.\n",
    "# 0! = 1\n",
    "\n",
    "def factorial(n):\n",
    "    if n == 0:\n",
    "        return 1\n",
    "    return n*factorial(n-1)\n",
    "\n",
    "\n"
   ]
  },
  {
   "cell_type": "code",
   "execution_count": 26,
   "id": "520a8f22-4ac0-4f7c-8928-e5e1a3654bc5",
   "metadata": {},
   "outputs": [
    {
     "data": {
      "text/plain": [
       "120"
      ]
     },
     "execution_count": 26,
     "metadata": {},
     "output_type": "execute_result"
    }
   ],
   "source": [
    "factorial(5)"
   ]
  },
  {
   "cell_type": "code",
   "execution_count": 27,
   "id": "db1d01cf-692a-4ad5-a322-dbe6ba799b1e",
   "metadata": {},
   "outputs": [
    {
     "data": {
      "text/plain": [
       "3628800"
      ]
     },
     "execution_count": 27,
     "metadata": {},
     "output_type": "execute_result"
    }
   ],
   "source": [
    "factorial(10)"
   ]
  },
  {
   "cell_type": "code",
   "execution_count": 35,
   "id": "1d094bf6-27e0-4c47-b7a1-018516d0728e",
   "metadata": {},
   "outputs": [],
   "source": [
    "# The fibonaci function has long been a topic of discussion when it comes to \n",
    "# recursive functions as it creates multiple copies of itself in memory to solve a problem.\n",
    "\n",
    "# F0 = 0  --> \"F sub-index 0 is 0\"\n",
    "# F1 = 1  --> \"F sub-index 1 is 1\"\n",
    "\n",
    "# Additional numbers in the series can be calculated with:\n",
    "#Fn = Fn-1 + Fn-2\n",
    "\n",
    "# 0, 1, 2, 3, 4, 5, 6, 7, 8\n",
    "#0, 1, 1, 2, 3, 5, 8, 13, 21 ...\n",
    "\n",
    "# What is the 21st fionacci number?\n",
    "from functools import lru_cache\n",
    "\n",
    "@lru_cache\n",
    "def fib(n): \n",
    "    if n < 2:\n",
    "        return n\n",
    "    return fib(n-1) + fib(n-2)"
   ]
  },
  {
   "cell_type": "code",
   "execution_count": 31,
   "id": "785a9ce0-d274-42bf-aa59-a540aab55a2e",
   "metadata": {},
   "outputs": [
    {
     "data": {
      "text/plain": [
       "9227465"
      ]
     },
     "execution_count": 31,
     "metadata": {},
     "output_type": "execute_result"
    }
   ],
   "source": [
    "fib(35)"
   ]
  },
  {
   "cell_type": "code",
   "execution_count": 32,
   "id": "3b2942d6-5a5a-4126-99c8-768359ba8749",
   "metadata": {},
   "outputs": [
    {
     "data": {
      "text/plain": [
       "55"
      ]
     },
     "execution_count": 32,
     "metadata": {},
     "output_type": "execute_result"
    }
   ],
   "source": [
    "fib(10)"
   ]
  },
  {
   "cell_type": "code",
   "execution_count": 36,
   "id": "8d035d79-a9b7-4d9f-9b63-91d7c04b1026",
   "metadata": {},
   "outputs": [
    {
     "data": {
      "text/plain": [
       "354224848179261915075"
      ]
     },
     "execution_count": 36,
     "metadata": {},
     "output_type": "execute_result"
    }
   ],
   "source": [
    "fib(100)"
   ]
  },
  {
   "cell_type": "code",
   "execution_count": 37,
   "id": "17d3bdcc-a9cf-4e18-962a-acbb85d9b6ce",
   "metadata": {},
   "outputs": [],
   "source": [
    "# Pseudocode for fiboncci with dictionary\n",
    "\n",
    "# mydictionary = new dictionary\n",
    "# Define fibonacci with parameter n of type integer: \n",
    "#     if n < 2:\n",
    "#        return n\n",
    "#     if n is in mydictionary:\n",
    "#         return the value for n from mydictionary\n",
    "#     else:\n",
    "#         out = fibonacci(n-1) + fibonacci(n-2)\n",
    "#         create a new key in mydictionary and set the value to out\n",
    "#         return out\n",
    "            "
   ]
  },
  {
   "cell_type": "code",
   "execution_count": null,
   "id": "bd3aeb74-2fc8-42c9-a256-8c9b207316f9",
   "metadata": {},
   "outputs": [],
   "source": [
    "class Fibonacci:\n",
    "    def __init__(self):\n",
    "        self.mydictionary = {}\n",
    "\n",
    "    def fibonacci(self, n: int) -> int:\n",
    "        if n < 2:\n",
    "            return n\n",
    "        if n in self.mydictionary:\n",
    "            return self.mydictionary[n]\n",
    "        else:\n",
    "            out = self.fibonacci(n-1) + self.fibonacci(n-2)\n",
    "            self.mydictionary"
   ]
  }
 ],
 "metadata": {
  "kernelspec": {
   "display_name": "Python 3 (ipykernel)",
   "language": "python",
   "name": "python3"
  },
  "language_info": {
   "codemirror_mode": {
    "name": "ipython",
    "version": 3
   },
   "file_extension": ".py",
   "mimetype": "text/x-python",
   "name": "python",
   "nbconvert_exporter": "python",
   "pygments_lexer": "ipython3",
   "version": "3.12.4"
  }
 },
 "nbformat": 4,
 "nbformat_minor": 5
}
